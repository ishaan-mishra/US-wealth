{
 "cells": [
  {
   "cell_type": "code",
   "execution_count": null,
   "metadata": {},
   "outputs": [],
   "source": [
    "# modules for research report\n",
    "from datascience import *\n",
    "import numpy as np\n",
    "import random\n",
    "%matplotlib inline\n",
    "import matplotlib.pyplot as plots\n",
    "plots.style.use('fivethirtyeight')\n",
    "\n",
    "# module for YouTube video\n",
    "from IPython.display import YouTubeVideo\n",
    "\n",
    "# # okpy config\n",
    "# from client.api.notebook import Notebook\n",
    "# ok = Notebook('wealth-final-project.ok')\n",
    "# _ = ok.auth(inline=True)"
   ]
  },
  {
   "cell_type": "markdown",
   "metadata": {},
   "source": [
    "# Family & Household Wealth in the United States (2009-2013)\n",
    "\n",
    "This dataset was originally published as part of household-specific data from the American Community Survey (ACS) — a yearly, ongoing\n",
    "survey conducted by the U.S. Census Bureau — Public Use Microdata Sample (PUMS). This dataset is taken from the ACS 5-year PUMS,\n",
    "spanning the years 2009-2013, and it has been cleaned for your convenience. All observations and variables not of interest have been\n",
    "removed, and a random sample of the data containing 1,200 entries has been provided. A brief description of the dataset is provided\n",
    "below.\n",
    "\n",
    "**NB: You may not copy any public analyses of this dataset. Doing so will result in a zero.**"
   ]
  },
  {
   "cell_type": "markdown",
   "metadata": {},
   "source": [
    "## Summary\n",
    "\n",
    "The origins of the ACS can be traced back to the mid-20th century. That is, the postwar period in the United States that saw massive\n",
    "population growth and swiftly changing household, urban and rural demographics. Beginning in the 1960s, lawmakers, unable to get\n",
    "actionable data about their rapidly changing communities from the once-every-ten-years Census, started to look for\n",
    "ways to get more immediate information about the people in their districts.\n",
    "\n",
    "It wasn't until the 1990s, however, that plans to get more frequent Census-type data came to fruition. Congress, seeing a drop in\n",
    "Census response rates as a result of its burdensome length, directed the U.S. Census Bureau to develop different ways to get the\n",
    "much needed information. The U.S. Census Bureau, in concert with statisticians from other organizations, eventually developed a\n",
    "yearly survey now known as the ACS. The ACS was officially launched in 2005. \n",
    "\n",
    "According to the [U.S. Census Bureau website](https://www.census.gov/programs-surveys/acs/geography-acs/areas-published.html): \n",
    ">“American Community Survey (ACS) data are tabulated for a variety of different geographic areas ranging in size from broad geographic\n",
    "regions to cities, towns, county subdivisions, and block groups.” \n"
   ]
  },
  {
   "cell_type": "markdown",
   "metadata": {},
   "source": [
    "## Disclaimer\n",
    "\n",
    "At the time this data was collected, the U.S. Census Bureau and the ACS only considered binary, opposite-sex couples in the context of marital status; any time this dataset mentions a married pair or a spouse, it is referring to an opposite-sex couple or partner. This dataset covers the period 2009-2013, when same-sex marriage had not yet been legalized under U.S. federal law, though some states maintained legal same-sex marriage during this time period."
   ]
  },
  {
   "cell_type": "markdown",
   "metadata": {},
   "source": [
    "## Data Description\n",
    "\n",
    "This dataset utilizes the following abbreviations:\n",
    "* `GQ`: group quarters\n",
    "* `Non-Family`: a household that is not associated with any family. If referring to an individual, the respondent is considered a member of group quarters. If referring to a property, the property is considered vacant. \n",
    "\n",
    "This dataset contains three tables, included in the `data` folder:\n",
    "1. `families_data` provides information about characteristics of each household.\n",
    "2. `resources_data` provides information about the resources available to each household.\n",
    "3. `states_data` provides the full names and abbreviations of U.S. states as strings, as well as an integer code for each state that corresponds to the integer codes found in the previous two tables. \n",
    "\n",
    "A description of each table's variables is provided below:\n",
    "1. `families data`:\n",
    "    * `ID`: a unique identifier for each household\n",
    "    * `REGION`: region of the United States \n",
    "    * `DIVISION`: division of the United States, more specific than region\n",
    "    * `STATE`: state of the United States\n",
    "    * `FAMILY INCOME`: yearly income by family, not adjusted for inflation\n",
    "    * `HOUSEHOLD LANGUAGE`: description of the geographic area from which the main household language is originally. The categories for Household Language are as follows: English only, and Other Non-English.\n",
    "    * `HOUSEHOLD INCOME`: yearly income by household, not adjusted for inflation \n",
    "    * `WORKERS IN FAMILY`: number of workers in each family \n",
    "    * `PERSONS IN FAMILY`: number of persons in each family\n",
    "     \n",
    "    \n",
    "\n",
    "2. `resources_data`: \n",
    "    * `ID`: a unique identifier for each household\n",
    "    * `REGION`: region of the United States \n",
    "    * `DIVISION`: division of the United States, more specific than region\n",
    "    * `STATE`: state of the United States \n",
    "    * `MONTHLY RENT`: the monthly rent each renting household is paying. If the property is owned by the household, this value is the string \"Owner\". \n",
    "    * `GROSS MONTHLY RENT`: the gross rent (monthly amount) each renting household is paying. If the property is owned by the household, this value is the string \"Owner\". \n",
    "    * `OCCUPANCY STATUS`: description of the occupancy status for a particular property; for example: “owned free and clear” or “rented.” \n",
    "    * `NUMBER OF VEHICLES`: number of vehicles a particular household has access to. \n",
    "    * `HOUSEHOLD TELEPHONE`: a binary variable, whether or not a household has access to a telephone.\n",
    "    \n",
    "    \n",
    "    \n",
    "3. `states_data`:\n",
    "    * `CODE`: number for reference in original table\n",
    "    * `FULL NAME`: full state name\n",
    "    * `ABRV`: abbreviation\n"
   ]
  },
  {
   "cell_type": "markdown",
   "metadata": {},
   "source": [
    "## Note about Non-Family Values\n",
    "\n",
    "Many values in the table below are categorized as \"non-family\" if the census respondent is not part of a family unit (e.g. the respondent\n",
    "resides in group quarters). Our data contains a lot of family-specific data, like `FAMILY INCOME` or `PERSONS IN FAMILY`; it wouldn't\n",
    "make sense for a person who is not part of a family to have responses to those. \n",
    "\n",
    "Non-family respondents, however, account for a significant portion of census data — roughly between 15%-30%, depending on the sample.\n",
    "If you would like to work with the non-family respondent data, we encourage you to consider non-family-dependent variables, like\n",
    "`HOUSEHOLD INCOME` or `PROPERTY VALUE`, among others. If, however, you do not want to work with these variables, we encourage you\n",
    "to filter out these variables (in a process called \"data cleaning\") from your data before you get started. \n",
    "\n",
    "*Hint: if you want to clean your data so that non-family values do not appear, consider filtering using `.where`.*"
   ]
  },
  {
   "cell_type": "markdown",
   "metadata": {},
   "source": [
    "## Inspiration\n",
    "\n",
    "A variety of exploratory analyses, hypothesis tests, and predictions problems can be tackled with this data. Here are a few ideas to get you started:\n",
    "\n",
    "1. Is there a relationship between property value and English-only-speaking households? \n",
    "2. Is there a significant difference in monthly rent for households in the West region of the United States compared to the Northeast region? \n",
    "3. How do rows containing ‘Non-Family’ data compare to responses filled by heads of Families?\n",
    "4. Where is household telephone access limited? How is this associated with various measures of wealth?\n",
    "5. What states and regions have higher or lower vehicle ownership? See `NUMBER OF VEHICLES`.\n",
    "\n",
    "If you'd like to learn more about  wealth in the United States, check out the following resources:\n",
    "1. [Where does your net worth rank in the United States?](https://www.nytimes.com/interactive/2019/08/12/upshot/are-you-rich-where-does-your-net-worth-rank-wealth.html) Data visualization by the *New York Times*. \n",
    "2. Consider taking Wealth & Poverty (PUBPOL C103) with former U.S. Secretary of Labor and current UC Berkeley professor Robert Reich. \n",
    "3. Consider taking Contemporary Theories of Political Economy (POLECON 101) with Professor Khalid Kadir (it's Data 8 GSI Maya's favorite class at Berkeley!).\n",
    "\n",
    "*Credit to Prof. Lexin Li, and his course Big Data: A Public Health Perspective (PBHLTH 244), for introducing the Data 8 staff to this dataset. Feel free to ask him about your path to upper division and graduate level biostatistics courses at UC Berkeley.* \n",
    "\n",
    "Don't forget to review the [Final Project Guidelines](https://docs.google.com/document/d/1NuHDYTdWGwhPNRov8Y3I8y6R7Rbyf-WDOfQwovD-gmw/edit?usp=sharing) for a complete list of requirements."
   ]
  },
  {
   "cell_type": "markdown",
   "metadata": {},
   "source": [
    "## Preview"
   ]
  },
  {
   "cell_type": "code",
   "execution_count": null,
   "metadata": {},
   "outputs": [],
   "source": [
    "families_data = Table.read_table('data/families.csv').relabel(4, 'FAMILY INCOME').relabel(6, 'HOUSEHOLD INCOME')\n",
    "families_data"
   ]
  },
  {
   "cell_type": "code",
   "execution_count": null,
   "metadata": {},
   "outputs": [],
   "source": [
    "resources_data = Table.read_table('data/resources.csv').relabel(4, 'PROPERTY VALUE').relabel(5, 'MONTHLY RENT').relabel(6, 'GROSS MONTHLY RENT')\n",
    "resources_data.group('GROSS MONTHLY RENT').sort('GROSS MONTHLY RENT', descending = True)"
   ]
  },
  {
   "cell_type": "code",
   "execution_count": null,
   "metadata": {},
   "outputs": [],
   "source": [
    "states_data = Table.read_table('data/states.csv')\n",
    "states_data"
   ]
  },
  {
   "cell_type": "markdown",
   "metadata": {},
   "source": [
    "<br>\n",
    "\n",
    "# Research Report"
   ]
  },
  {
   "cell_type": "markdown",
   "metadata": {},
   "source": [
    "## Introduction\n",
    "\n",
    "This data is taken from an annual survey from the ACS done by the U.S. Census Bureau. The data covers the years 2009-2013 and has information on a random sample of 1200 families across the US.\n",
    "\n",
    "Both tables `families_data` and `resources_data` give basic information about each family surveyed. Each row corresponds to a family or a household. We are told the unique ID number of each household, the region and the division they live in, and we are given the codes of the state each family lives in. \n",
    "\n",
    "The table `families_data` gives information about each family’s background. Each family’s family income and household income both give indications of financial status. The number of workers in each family is the number of people in each family that earn money. We are also told whether English is spoken at the home of each household. Furthermore, for households with the value \"Non-Family\", the individual surveyed was unable to answer on behalf of the family. \n",
    "\n",
    "In the table `resources_data`, we are told more about each family’s assets and necessary expenses. The value of a family’s property and whether they own a car or not is a partial measure of their net worth. For the families that don’t own property, the values of monthly rent and gross monthly rent they pay gives an indication of their expenses. Furthermore, seeing whether they own a telephone at home or not seeks to find whether each family has basic tools at home.\n",
    "\n",
    "Finally, there is a table called `states_data` which gives us the name of each state as well as each state’s code and two-letter abbreviation.\n",
    "\n",
    "Given all this information, we can compare these basic details and facts about each family, and observe any impact they might have on one another."
   ]
  },
  {
   "cell_type": "markdown",
   "metadata": {},
   "source": [
    "## Hypothesis Testing and Prediction Questions\n",
    "\n",
    "**Please bold your hypothesis testing and prediction questions.**\n",
    "\n",
    "The dataset provides extensive information about the background, financial status and net worth of families across the US, enabling us to conduct investigations between the relationship between any set of factors. \n",
    "\n",
    "We were wondering whether the region of the US a family lives in affects the jobs that members of those families work in, and the pay that they receive. **In particular, we wanted to investigate how distribution of household income varies between families who live in the south of the US and families who live in the northeast of the US. We wanted to find out if the differences in distributions of household incomes between households in the two locations is due to random chance or whether a difference in distributions can be seen in the wider population.** We will be investigating this using an A/B hypothesis test. \n",
    "\n",
    "Null Hypothesis for this hypothesis test: In the population, the distribution of household income for households in the northeast is the same as the distribution of household income for households in the south of the US. Any variation is due to random chance.\n",
    "\n",
    "**We were also wondering whether 'Household Income' can be used to predict 'Gross Monthly Rent'.** We will investigate this through use of a linear regression model. "
   ]
  },
  {
   "cell_type": "markdown",
   "metadata": {},
   "source": [
    "## Exploratory Data Analysis"
   ]
  },
  {
   "cell_type": "markdown",
   "metadata": {},
   "source": [
    "**Table Requiring a Join Operation:**"
   ]
  },
  {
   "cell_type": "code",
   "execution_count": null,
   "metadata": {},
   "outputs": [],
   "source": [
    "def string_to_float(x):\n",
    "    '''Converts string values to float.'''\n",
    "    return float(x.strip())\n",
    "\n",
    "# full data from joining families_data and resources_data\n",
    "full_data = families_data.join('ID', resources_data)\n",
    "\n",
    "# below, we remove all the rows with 'Non-Family entries for 'Household Income'\n",
    "full_data = full_data.where(full_data.column('HOUSEHOLD INCOME') != 'Non-Family')\n",
    "\n",
    "# then, we convert all the remaining (numerical) values of 'Household Income' from string to float\n",
    "full_data = full_data.with_column('HOUSEHOLD INCOME', full_data.apply(string_to_float, 'HOUSEHOLD INCOME'))\n",
    "region_count = full_data.select('REGION', 'HOUSEHOLD INCOME').group('REGION')\n",
    "region_income_average = full_data.select('REGION', 'HOUSEHOLD INCOME').group('REGION', np.average)\n",
    "region_income_average.join('REGION', region_count)"
   ]
  },
  {
   "cell_type": "markdown",
   "metadata": {},
   "source": [
    "Above, we have joined tables families_data and resources_data and then grouped the data by region to create a table that shows the average household income as well as the number of families in each region in our sample.\n",
    "\n",
    "The lowest household income average is in the South (10.9312) and the highest is in the northeast (11.3733). This is why we are investigating whether the household income is higher in the northeast than in the south. The table also shows that the number of values from the two regions we are investigating is not even, and that there are significantly more values from the south than from the northeast. However, a similar ratio of numbers of families was seen in the real population in these regions (<a href = “https://www.economy.com/south-region-united-states/households-total-households”>this link</a>) in 2010. So, this will not be a discrepancy."
   ]
  },
  {
   "cell_type": "markdown",
   "metadata": {},
   "source": [
    "**Qualitative Plot:**"
   ]
  },
  {
   "cell_type": "code",
   "execution_count": null,
   "metadata": {},
   "outputs": [],
   "source": [
    "def english_only_proportions(row):\n",
    "    '''\n",
    "    Parameters: Row containing the counts of households with English only and Other Non-English household language.\n",
    "    Returns: The proportion of English only speaking households in a row.\n",
    "    '''\n",
    "    return row.item('English only count') / (row.item('English only count') + row.item('Other Non-English count'))\n",
    "\n",
    "def other_non_english_proportions(row):\n",
    "    '''\n",
    "    Parameters: Row containing the counts of households with English only and Other Non-English household language.\n",
    "    Returns: The proportion of households with household language as Other Non-English language in a row.\n",
    "    '''\n",
    "    return row.item('Other Non-English count') / (row.item('English only count') + row.item('Other Non-English count'))\n",
    "\n",
    "# full data on only South and Northeast Regions\n",
    "south_and_ne_data = full_data.where('REGION', 'Northeast').append(full_data.where('REGION', 'South'))\n",
    "language_region_counts = south_and_ne_data.pivot('HOUSEHOLD LANGUAGE', 'REGION').relabel(1, 'English only count').relabel(2, 'Other Non-English count')\n",
    "language_region_props = language_region_counts.with_columns(\n",
    "    'English only proportions', \n",
    "    language_region_counts.apply(english_only_proportions),\n",
    "    'Other Non-English proportions', \n",
    "    language_region_counts.apply(other_non_english_proportions)\n",
    ")\n",
    "language_region_props.select(0, 3, 4).barh(0)\n",
    "plots.title('Proportions of Households with English only and\\nOther Non-English household language\\nin the Northeast and in the South');"
   ]
  },
  {
   "cell_type": "markdown",
   "metadata": {},
   "source": [
    "We are looking at the distribution of household income between the South and the Northeast regions. So, we want to see how the proportions of households that speak only English and non-English speaking households differ in both regions since this could be a factor in the difference in their income distributions. We created a bar chart of these proportions in the Northeast and South regions.\n",
    "\n",
    "In both regions there are significantly more households that speak only English. We also see that the proportions of both are similar in both the regions. So, this implies that household language should not be a factor affecting the difference in income distributions between the two regions."
   ]
  },
  {
   "cell_type": "markdown",
   "metadata": {},
   "source": [
    "**Aggregated Data Table:**"
   ]
  },
  {
   "cell_type": "code",
   "execution_count": null,
   "metadata": {},
   "outputs": [],
   "source": [
    "workers_region_data = south_and_ne_data.pivot('REGION', 'WORKERS IN FAMILY')\n",
    "workers_region_data.relabel(1, 'Northeast count').relabel(2, 'South count')\n",
    "workers_region_data.with_columns(\n",
    "    'Northeast proportions', \n",
    "    np.array(workers_region_data.column(1))/south_and_ne_data.where('REGION', 'Northeast').num_rows,\n",
    "    'South proportions', \n",
    "    np.array(workers_region_data.column(2))/south_and_ne_data.where('REGION', 'South').num_rows\n",
    ")"
   ]
  },
  {
   "cell_type": "markdown",
   "metadata": {},
   "source": [
    "We are looking at the differences in distributions of household income in the northeast and in the south, so we want to see how families with different number of workers are distributed across these two regions. We created a pivot table showing the number of families in each region as well as the proportions of families in each region with different numbers of workers in the family. The row showing counts and proportions for 'Non-Family' households are not part of our investigation.\n",
    "\n",
    "We can see that the northeast has larger proportions of families with more workers than the south. Overall, we can see that the differences in numbers of workers in a family might be a factor affecting differences in household incomes in the south and in the northeast."
   ]
  },
  {
   "cell_type": "markdown",
   "metadata": {},
   "source": [
    "**Quantitative Plot:**"
   ]
  },
  {
   "cell_type": "code",
   "execution_count": null,
   "metadata": {},
   "outputs": [],
   "source": [
    "# below, we remove all the rows with 'Non-Family entries for 'Gross Monthly Rent'\n",
    "filtered_data = full_data.where(full_data.column('GROSS MONTHLY RENT') != 'Non-Family')\n",
    "\n",
    "# we filter the above table to keep only those households and families with an 'Occupancy Status' of 'Rented'\n",
    "filtered_data = filtered_data.where('OCCUPANCY STATUS', 'Rented').drop('OCCUPANCY STATUS')\n",
    "\n",
    "# then, we convert all the remaining (numerical) values of 'Gross Monthly Rent' from string to float\n",
    "filtered_data = filtered_data.with_column('GROSS MONTHLY RENT', filtered_data.apply(string_to_float, 'GROSS MONTHLY RENT'))\n",
    "filtered_data.scatter('HOUSEHOLD INCOME', 'GROSS MONTHLY RENT')\n",
    "plots.title('Scatter plot of Gross Monthly Rent\\nand Household Income');"
   ]
  },
  {
   "cell_type": "markdown",
   "metadata": {},
   "source": [
    "We created a scatter plot to depict the relationship between 'Household Income' and 'Gross Monthly Rent' - which is what we are investigating in our prediction problem. We filtered out non-numerical 'Gross Monthly Rent' and 'Household Income' values, since these cannot be plotted. We also filtered out data points for which 'Occupancy Status' is anything other than 'Rented', since such families will not be paying rent.\n",
    "\n",
    "Based on the scatter plot produced, we can see that there is a positive association between household income and gross monthly rent for household income values above 5. The other data points (all along the y-axis) have 'Household Income' values of 0. There are no data points in between 'Household Income' values of 0 and 4.7. It intuitively doesn't make sense to predict 'Gross Monthly Rent' values for families whose household income is 0. So we will be getting rid these points before carrying out the predictive model."
   ]
  },
  {
   "cell_type": "markdown",
   "metadata": {},
   "source": [
    "## Hypothesis Testing\n",
    "\n",
    "We are conducting a hypothesis test to investigate whether household incomes are higher in the south than in the northeast of the US. In this case we have two samples - a sample of household incomes in the northeast of the US and a sample of household incomes in the south of the US. We are testing to see if these two samples come from the same population distribution, which makes an A/B test suitable.\n",
    "\n",
    "Null Hypothesis: In the population, the distribution of household income for households in the northeast is the same as the distribution of household income for households in the south of the US. Any variation is due to random chance.\n",
    "\n",
    "Alternative Hypothesis: In the population, households in the northeast have a higher household income than households in the south of the US, on average. \n",
    "\n",
    "The level of significance for this hypothesis test will be 5 percent. Our test statistic will be the difference between the group mean household incomes for households in the northeast and households in the south. Large values of this test statistic will favor the alternative hypothesis."
   ]
  },
  {
   "cell_type": "code",
   "execution_count": null,
   "metadata": {},
   "outputs": [],
   "source": [
    "# the following function computes the test statistic for one sample\n",
    "def means_diff(tbl, group_label, value_label):\n",
    "    '''\n",
    "    Computes the difference in the means of values in the column values_label \n",
    "    for the two groups in the column group_label.\n",
    "    Parameters: Name of table, column label of group-label variable,\n",
    "    column label of numerical variable.\n",
    "    Returns: Difference of means of values between two groups.\n",
    "    '''\n",
    "    tbl = tbl.select(group_label, value_label)\n",
    "    group_tbl = tbl.group(group_label, np.average)\n",
    "    means = group_tbl.column(1)\n",
    "    return means.item(0) - means.item(1)\n",
    "\n",
    "# we use the function above to compute the observed test statistic\n",
    "observed_diff = means_diff(south_and_ne_data, 'REGION', 'HOUSEHOLD INCOME')\n",
    "observed_diff"
   ]
  },
  {
   "cell_type": "code",
   "execution_count": null,
   "metadata": {
    "scrolled": true
   },
   "outputs": [],
   "source": [
    "# set the random seed so that results are reproducible\n",
    "np.random.seed(1231)\n",
    "\n",
    "# the function below permutes the region labels for data on South and Northeast Regions and their incomes\n",
    "# and returns the test statistic of the permuted table.\n",
    "def simulate_one_stat(tbl, group_label, values_label):\n",
    "    '''\n",
    "    Permutes the labels for given data and returns the test statistic for the shuffled data.\n",
    "    Parameters: Name of table, column label of group-label variable,\n",
    "    column label of numerical variable.\n",
    "    Returns: Difference of means of values between two groups after shuffling labels.\n",
    "    '''\n",
    "    groups_tbl = tbl.select(group_label)\n",
    "    #array of shuffled labels\n",
    "    shuffled_labels = groups_tbl.sample(with_replacement=False).column(0)\n",
    "    \n",
    "    #table of numerical data with shuffled labels\n",
    "    shuffled_tbl = tbl.with_column(group_label, shuffled_labels)\n",
    "    return means_diff(shuffled_tbl, group_label, values_label)\n",
    "\n",
    "# below, we perform the A/B testing procedure by simulating the test statistic's distribution under the null\n",
    "differences = make_array()\n",
    "repetitions = 5000\n",
    "\n",
    "for i in np.arange(repetitions):\n",
    "    # we use the south_and_ne data, which is all the data on only the households in \n",
    "    # the South and Northeast regions, for our simulation.\n",
    "    # south_and_ne data has Non-Family values for 'Household Income' filtered out.\n",
    "    one_stat = simulate_one_stat(south_and_ne_data, 'REGION', 'HOUSEHOLD INCOME')\n",
    "    differences = np.append(differences, one_stat)\n",
    "\n",
    "# we then plot the empirical distribution of the test statistic under the null\n",
    "Table().with_column(\"Difference\", differences).hist()\n",
    "plots.scatter(observed_diff, 0, s=30, color='red');\n",
    "plots.title('Difference between Distributions of Household\\nIncome between the South and in the Northeast');"
   ]
  },
  {
   "cell_type": "code",
   "execution_count": null,
   "metadata": {},
   "outputs": [],
   "source": [
    "p_value = np.count_nonzero(differences >= observed_diff)/repetitions\n",
    "p_value"
   ]
  },
  {
   "cell_type": "markdown",
   "metadata": {},
   "source": [
    "The p-value is much lower than the significance cutoff of 0.05 (5 percent), so we can reject the Null Hypothesis. This means the data is consistent with the Alternative Hypothesis, and supports the idea that household incomes are higher for families in the northeast than for families in the south of the US, on average."
   ]
  },
  {
   "cell_type": "markdown",
   "metadata": {},
   "source": [
    "## Prediction\n",
    "\n",
    "We are using linear regression to see if the relationship between Household Income and Gross Monthly Rent is linear and whether it can be shown using a straight line.  \n",
    "\n",
    "The population we are investigating is people in the US who pay rent and who have a nonzero 'Household Income'. We filtered out families who have an occupancy status of 'Owner', since they will not have a 'Gross Monthly Rent'. We also filtered out households whose 'Household Income' is recorded as 0, since we cannot predict monthly rent for them."
   ]
  },
  {
   "cell_type": "code",
   "execution_count": null,
   "metadata": {},
   "outputs": [],
   "source": [
    "def standard_units(arr):\n",
    "    '''Converts the array to standard units.'''\n",
    "    return (arr - np.mean(arr))/np.std(arr)\n",
    "\n",
    "def correlation(tbl, x_col, y_col):\n",
    "    '''Computes the correlation coefficient between two variables.'''\n",
    "    x_std = standard_units(tbl.column(x_col))\n",
    "    y_std = standard_units(tbl.column(y_col))\n",
    "    return np.mean(x_std * y_std)\n",
    "\n",
    "def slope(tbl, x_col, y_col):\n",
    "    '''Returns the slope of the regression line.'''\n",
    "    r = correlation(tbl, x_col, y_col)\n",
    "    return r * np.std(tbl.column(y_col))/np.std(tbl.column(x_col))\n",
    "\n",
    "def fitted_values(tbl, x_col, y_col):\n",
    "    '''\n",
    "    Returns the predicted values of the best fit line (fitted values) \n",
    "    for values in the x_col column of the table.\n",
    "    '''\n",
    "    s = slope(tbl, x_col, y_col)\n",
    "    i = np.mean(tbl.column(y_col)) - s * np.mean(tbl.column(x_col))\n",
    "    return s*tbl.column(x_col) + i\n",
    "\n",
    "# we use the filtered_data table for our prediction test\n",
    "# filtered_data table has all Non-Family values of 'Household Income' and 'Gross Monthly Rent' filtered out\n",
    "# filtered_data is also filtered to only include households with an 'Occupancy Status' of 'Renter'\n",
    "# below, we filter out 'Household Income' values of 0 to perform the prediction test for our specified population\n",
    "filtered_data = filtered_data.where('HOUSEHOLD INCOME', are.above(0))\n",
    "\n",
    "correlation(filtered_data, 'HOUSEHOLD INCOME', 'GROSS MONTHLY RENT')"
   ]
  },
  {
   "cell_type": "code",
   "execution_count": null,
   "metadata": {},
   "outputs": [],
   "source": [
    "# below, we plot the scatter plot with the actual and \n",
    "# predicted Rent values (from our linear regression model) against Household Income\n",
    "fit_data = Table().with_columns(\n",
    "    'HOUSEHOLD INCOME', filtered_data.column('HOUSEHOLD INCOME'),\n",
    "    'GROSS MONTHLY RENT', filtered_data.column('GROSS MONTHLY RENT'),\n",
    "    'FITTED VALUES', fitted_values(filtered_data, 'HOUSEHOLD INCOME', 'GROSS MONTHLY RENT')\n",
    ") \n",
    "\n",
    "fit_data.scatter('HOUSEHOLD INCOME')\n",
    "plots.title('Relationship between Gross Monthly Rent and\\nHousehold Income (Non-zero values only)');"
   ]
  },
  {
   "cell_type": "markdown",
   "metadata": {},
   "source": [
    "This is a scatter plot showing the relationship between Household Income and Gross Monthly Rent, as well as showing fitted values of the linear regression model. We can see from the scatter plot that there is only some positive correlation between household income and gross monthly rent, and this is reinforced by the fact that the value of r is 0.349.\n",
    "\n",
    "There are also some large values of Gross Monthly Rent (for example, there is a value above 3500), which are much greater than their corresponding fitted values. We will plot the residuals to further investigate the effectiveness of the linear regression model. "
   ]
  },
  {
   "cell_type": "code",
   "execution_count": 17,
   "metadata": {},
   "outputs": [
    {
     "data": {
      "image/png": "[encoded data removed]",
      "text/plain": [
       "<Figure size 360x360 with 1 Axes>"
      ]
     },
     "metadata": {},
     "output_type": "display_data"
    }
   ],
   "source": [
    "# compute and plot the residuals of our linear regression model\n",
    "residuals_table = fit_data.with_column('Residuals', fit_data.column(1) - fit_data.column(2))\n",
    "residuals_table\n",
    "residuals_table.scatter('HOUSEHOLD INCOME', 'Residuals')\n",
    "plots.title('Residuals Plot');"
   ]
  },
  {
   "cell_type": "markdown",
   "metadata": {},
   "source": [
    "The residual plot shows a distribution of both positive and negative residuals for Household Income values above approximately 9. There are also some particulary large positive residuals. We will be looking at this further below by adding these residual values to the filtered_data table created earlier.\n",
    "\n",
    "The residual plot shows mainly positive values of residuals for low values of household income. For Household Income values below 9, all residuals are positive, except for one. For Household Income values above 9, we see that the values of residuals become more varied, above and below the line y = 0. "
   ]
  },
  {
   "cell_type": "code",
   "execution_count": 18,
   "metadata": {},
   "outputs": [
    {
     "data": {
      "text/html": [
       "<table border=\"1\" class=\"dataframe\">\n",
       "    <thead>\n",
       "        <tr>\n",
       "            <th>REGION</th> <th>DIVISION</th> <th>HOUSEHOLD INCOME</th> <th>MONTHLY RENT</th> <th>RENT RESIDUALS</th>\n",
       "        </tr>\n",
       "    </thead>\n",
       "    <tbody>\n",
       "        <tr>\n",
       "            <td>West     </td> <td>Pacific        </td> <td>11.09           </td> <td>3550        </td> <td>2742.29       </td>\n",
       "        </tr>\n",
       "        <tr>\n",
       "            <td>West     </td> <td>Pacific        </td> <td>10.78           </td> <td>2606        </td> <td>1633.11       </td>\n",
       "        </tr>\n",
       "        <tr>\n",
       "            <td>West     </td> <td>Pacific        </td> <td>12.35           </td> <td>2589        </td> <td>1594.34       </td>\n",
       "        </tr>\n",
       "        <tr>\n",
       "            <td>West     </td> <td>Pacific        </td> <td>13.23           </td> <td>2637        </td> <td>1495.03       </td>\n",
       "        </tr>\n",
       "        <tr>\n",
       "            <td>Northeast</td> <td>Middle Atlantic</td> <td>11.2            </td> <td>2300        </td> <td>1358.13       </td>\n",
       "        </tr>\n",
       "        <tr>\n",
       "            <td>South    </td> <td>South Atlantic </td> <td>10.32           </td> <td>2000        </td> <td>1333.43       </td>\n",
       "        </tr>\n",
       "        <tr>\n",
       "            <td>West     </td> <td>Pacific        </td> <td>12.41           </td> <td>2278        </td> <td>1233.34       </td>\n",
       "        </tr>\n",
       "        <tr>\n",
       "            <td>Northeast</td> <td>Middle Atlantic</td> <td>11.1            </td> <td>2231        </td> <td>1228.46       </td>\n",
       "        </tr>\n",
       "        <tr>\n",
       "            <td>South    </td> <td>South Atlantic </td> <td>11.49           </td> <td>2243        </td> <td>1171.97       </td>\n",
       "        </tr>\n",
       "        <tr>\n",
       "            <td>West     </td> <td>Pacific        </td> <td>9.88            </td> <td>2000        </td> <td>1170.08       </td>\n",
       "        </tr>\n",
       "    </tbody>\n",
       "</table>\n",
       "<p>... (242 rows omitted)</p>"
      ],
      "text/plain": [
       "REGION    | DIVISION        | HOUSEHOLD INCOME | MONTHLY RENT | RENT RESIDUALS\n",
       "West      | Pacific         | 11.09            | 3550         | 2742.29\n",
       "West      | Pacific         | 10.78            | 2606         | 1633.11\n",
       "West      | Pacific         | 12.35            | 2589         | 1594.34\n",
       "West      | Pacific         | 13.23            | 2637         | 1495.03\n",
       "Northeast | Middle Atlantic | 11.2             | 2300         | 1358.13\n",
       "South     | South Atlantic  | 10.32            | 2000         | 1333.43\n",
       "West      | Pacific         | 12.41            | 2278         | 1233.34\n",
       "Northeast | Middle Atlantic | 11.1             | 2231         | 1228.46\n",
       "South     | South Atlantic  | 11.49            | 2243         | 1171.97\n",
       "West      | Pacific         | 9.88             | 2000         | 1170.08\n",
       "... (242 rows omitted)"
      ]
     },
     "execution_count": 18,
     "metadata": {},
     "output_type": "execute_result"
    }
   ],
   "source": [
    "# table of 10 households with the highest positive Rent vs Income residuals\n",
    "filtered_data.with_column(\n",
    "    'RENT RESIDUALS', residuals_table.column(3)\n",
    ").sort('RENT RESIDUALS', descending = True).select('REGION', 'DIVISION', 'HOUSEHOLD INCOME', 'MONTHLY RENT','RENT RESIDUALS')"
   ]
  },
  {
   "cell_type": "markdown",
   "metadata": {},
   "source": [
    "The table above shows the 'Region', 'Division', 'Household Income' and 'Monthly Rent' of the families with the highest 'Rent Residuals'. We can see that a disproportionate amount (6 out of 10) of these families are from the Pacific division of the West. "
   ]
  },
  {
   "cell_type": "code",
   "execution_count": 22,
   "metadata": {},
   "outputs": [
    {
     "data": {
      "image/png": "[encoded data removed]",
      "text/plain": [
       "<Figure size 360x360 with 1 Axes>"
      ]
     },
     "metadata": {},
     "output_type": "display_data"
    }
   ],
   "source": [
    "# below, we plot the graph of averages prediction for 'Gross Montly Rent' against 'Household Income'\n",
    "def graph_of_averages(tbl, x_col, y_col):\n",
    "    '''Returns the graph of averages for the x and y values'''\n",
    "    def pred_y(x):\n",
    "        '''Returns the predicted value for one x value based on the above tbl'''\n",
    "        close = tbl.where(x_col, are.between(x - 1, x + 1))\n",
    "        return np.average(close.column(y_col))\n",
    "    return tbl.apply(pred_y, x_col)\n",
    "averages_prediction_data = Table().with_columns(\n",
    "    'HOUSEHOLD INCOME', filtered_data.column('HOUSEHOLD INCOME'),\n",
    "    'GROSS MONTHLY RENT', filtered_data.column('GROSS MONTHLY RENT'),\n",
    "    'AVERAGE Y-VALUES', graph_of_averages(filtered_data, 'HOUSEHOLD INCOME', 'GROSS MONTHLY RENT')\n",
    ")\n",
    "averages_prediction_data.scatter(0)\n",
    "plots.title('Graph of Averages');"
   ]
  },
  {
   "cell_type": "markdown",
   "metadata": {},
   "source": [
    "Above, we plotted the Graph of Averages to find out if there is any non-linear relation between 'Household Income' and 'Gross Monthly Rent'. The fitted values shown above are similar to the fitted values on the linear regression plot. So this suggests that there is no non-linear association between the two variables."
   ]
  },
  {
   "cell_type": "markdown",
   "metadata": {},
   "source": [
    "The scatter plot and the value of r (0.349) showed limited positive correlation between household income and gross monthly rent. The residual plot shows residual values that are spread out above and below the line y = 0, but there are also some large positive residuals. This also suggests weak positive correlation.\n",
    "\n",
    "The table above shows the 'Region', 'Division', 'Household Income' and 'Monthly Rent' of the families with the highest 'Rent Residuals'. We looked at the families with the 10 highest residual values, and we can see that a disproportionate amount of these families (6 out of 10) are from the Pacific division of the West. This division of the West may have houses with particularly high rent values, and this may be skewing the data overall, negatively affecting our regression accuracy. \n",
    "\n",
    "We also generated a Graph of Averages to check for any non-linear association. We observed that the predicted values were similar to the linear regression. This suggests that there isn’t any non-linear relationship between the two variables. Furthermore, there may be other factors affecting monthly rent, such as the number of people living in the house. All this suggests that we shouldn't use only 'Household Income' to predict 'Gross Monthly Rent'. \n",
    "\n",
    "All of this suggests that a linear model may not be the best model to predict Gross Monthly Rent, given the values of Household Income."
   ]
  },
  {
   "cell_type": "markdown",
   "metadata": {},
   "source": [
    "## Conclusion\n",
    "\n"
   ]
  },
  {
   "cell_type": "markdown",
   "metadata": {},
   "source": [
    "We used the dataset containing information about families across the US to investigate relationships between various aspects of families' finances and assets. \n",
    "\n",
    "We carried out an A/B hypothesis test investigating how distribution in household income varies between families in the south and in the northeast of the US. The distribution and p-value generated were consistent with the Alternative Hypothesis, which implied to us that household incomes in the south are higher than in the northeast, on average.\n",
    "\n",
    "We carried out a linear regression test to investigate whether there is linear correlation between 'Household Income' and 'Gross Monthly Rent'. We fitted a linear regression model and then calculated and plotted residuals. We observed limited correlation between the two variables and concluded that 'Household Income' cannot be used to predict 'Gross Monthly Rent'. Given the differences in distributions of 'Rent Residuals' in different divisions of different regions of the US, we cannot generate a representative regression model for all divisions and regions. \n",
    "\n",
    "The families for whom 'Household Income' was listed as 0 were families in unique situations and weren't earning income at the time they were surveyed. Since we filtered out these families, this meant that some household income groups weren't represented in our investigation. We also noticed that the data was skewed towards larger values of 'Household Income', which may mean that the dataset is biased towards families with higher incomes.\n",
    "\n",
    "To overcome these limitations, we can collect a new dataset with more information on families with a 'Household Income' value of 0, and which is more representative of families with different levels of household income. "
   ]
  },
  {
   "cell_type": "markdown",
   "metadata": {},
   "source": [
    "## Presentation\n",
    "\n",
    "*In this section, you'll need to provide a link to your video presentation. If you've uploaded your presentation to YouTube,\n",
    "you can include the URL in the code below. We've provided an example to show you how to do this. Otherwise, provide the link\n",
    "in a markdown cell.*\n",
    "\n",
    "**Link:** *Replace this text with a link to your video presentation*"
   ]
  },
  {
   "cell_type": "code",
   "execution_count": null,
   "metadata": {},
   "outputs": [],
   "source": [
    "# Full Link: https://www.youtube.com/watch?v=BKgdDLrSC5s&feature=emb_logo\n",
    "# Plug in string between \"v=\" and \"\"&feature\":\n",
    "YouTubeVideo('BKgdDLrSC5s')"
   ]
  },
  {
   "cell_type": "markdown",
   "metadata": {},
   "source": [
    "# Submission\n",
    "\n",
    "*Just as with the other assignments in this course, please submit your research notebook to Okpy. We suggest that you\n",
    "submit often so that your progress is saved.*"
   ]
  },
  {
   "cell_type": "code",
   "execution_count": null,
   "metadata": {},
   "outputs": [],
   "source": [
    "#Run this line to submit your work\n",
    "#  _ = ok.submit()"
   ]
  }
 ],
 "metadata": {
  "kernelspec": {
   "display_name": "Python 3",
   "language": "python",
   "name": "python3"
  },
  "language_info": {
   "codemirror_mode": {
    "name": "ipython",
    "version": 3
   },
   "file_extension": ".py",
   "mimetype": "text/x-python",
   "name": "python",
   "nbconvert_exporter": "python",
   "pygments_lexer": "ipython3",
   "version": "3.6.11"
  }
 },
 "nbformat": 4,
 "nbformat_minor": 4
}
