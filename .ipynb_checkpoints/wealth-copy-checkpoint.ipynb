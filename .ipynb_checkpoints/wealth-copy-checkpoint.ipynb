{
 "cells": [
  {
   "cell_type": "code",
   "execution_count": 1,
   "metadata": {},
   "outputs": [],
   "source": [
    "# modules for research report\n",
    "from datascience import *\n",
    "import numpy as np\n",
    "import random\n",
    "%matplotlib inline\n",
    "import matplotlib.pyplot as plots\n",
    "plots.style.use('fivethirtyeight')\n",
    "\n",
    "# module for YouTube video\n",
    "from IPython.display import YouTubeVideo\n",
    "\n",
    "# # okpy config\n",
    "# from client.api.notebook import Notebook\n",
    "# ok = Notebook('wealth-final-project.ok')\n",
    "# _ = ok.auth(inline=True)"
   ]
  },
  {
   "cell_type": "markdown",
   "metadata": {},
   "source": [
    "# Family & Household Wealth in the United States (2009-2013)\n",
    "\n",
    "This dataset was originally published as part of household-specific data from the American Community Survey (ACS) — a yearly, ongoing\n",
    "survey conducted by the U.S. Census Bureau — Public Use Microdata Sample (PUMS). This dataset is taken from the ACS 5-year PUMS,\n",
    "spanning the years 2009-2013, and it has been cleaned for your convenience. All observations and variables not of interest have been\n",
    "removed, and a random sample of the data containing 1,200 entries has been provided. A brief description of the dataset is provided\n",
    "below.\n",
    "\n",
    "**NB: You may not copy any public analyses of this dataset. Doing so will result in a zero.**"
   ]
  },
  {
   "cell_type": "markdown",
   "metadata": {},
   "source": [
    "## Summary\n",
    "\n",
    "The origins of the ACS can be traced back to the mid-20th century. That is, the postwar period in the United States that saw massive\n",
    "population growth and swiftly changing household, urban and rural demographics. Beginning in the 1960s, lawmakers, unable to get\n",
    "actionable data about their rapidly changing communities from the once-every-ten-years Census, started to look for\n",
    "ways to get more immediate information about the people in their districts.\n",
    "\n",
    "It wasn't until the 1990s, however, that plans to get more frequent Census-type data came to fruition. Congress, seeing a drop in\n",
    "Census response rates as a result of its burdensome length, directed the U.S. Census Bureau to develop different ways to get the\n",
    "much needed information. The U.S. Census Bureau, in concert with statisticians from other organizations, eventually developed a\n",
    "yearly survey now known as the ACS. The ACS was officially launched in 2005. \n",
    "\n",
    "According to the [U.S. Census Bureau website](https://www.census.gov/programs-surveys/acs/geography-acs/areas-published.html): \n",
    ">“American Community Survey (ACS) data are tabulated for a variety of different geographic areas ranging in size from broad geographic\n",
    "regions to cities, towns, county subdivisions, and block groups.” \n"
   ]
  },
  {
   "cell_type": "markdown",
   "metadata": {},
   "source": [
    "## Disclaimer\n",
    "\n",
    "At the time this data was collected, the U.S. Census Bureau and the ACS only considered binary, opposite-sex couples in the context of marital status; any time this dataset mentions a married pair or a spouse, it is referring to an opposite-sex couple or partner. This dataset covers the period 2009-2013, when same-sex marriage had not yet been legalized under U.S. federal law, though some states maintained legal same-sex marriage during this time period."
   ]
  },
  {
   "cell_type": "markdown",
   "metadata": {},
   "source": [
    "## Data Description\n",
    "\n",
    "This dataset utilizes the following abbreviations:\n",
    "* `GQ`: group quarters\n",
    "* `Non-Family`: a household that is not associated with any family. If referring to an individual, the respondent is considered a member of group quarters. If referring to a property, the property is considered vacant. \n",
    "\n",
    "This dataset contains three tables, included in the `data` folder:\n",
    "1. `families_data` provides information about characteristics of each household.\n",
    "2. `resources_data` provides information about the resources available to each household.\n",
    "3. `states_data` provides the full names and abbreviations of U.S. states as strings, as well as an integer code for each state that corresponds to the integer codes found in the previous two tables. \n",
    "\n",
    "A description of each table's variables is provided below:\n",
    "1. `families data`:\n",
    "    * `ID`: a unique identifier for each household\n",
    "    * `REGION`: region of the United States \n",
    "    * `DIVISION`: division of the United States, more specific than region\n",
    "    * `STATE`: state of the United States\n",
    "    * `FAMILY EMPLOYMENT STATUS`: description of family type and employment status; for example: married and both spouses working, married and one spouse working, unmarried and working, etc. In terms of marital status, the data collected by the U.S. census in 2013 did not include any married gay couples — all marriages here are male-female couples\n",
    "    * `FAMILY INCOME`: yearly income by family, not adjusted for inflation\n",
    "    * `HOUSEHOLD LANGUAGE`: description of the geographic area from which the main household language is originally. The categories for Household Language are as follows: English only, Spanish, Other Indo-European languages, Asian and Pacific Island languages, and Other language\n",
    "    * `HOUSEHOLD INCOME`: yearly income by household, not adjusted for inflation \n",
    "    * `LIMITED ENGLISH SPEAKING`: a binary variable, describing whether or not the household in its entirety has limited English speaking abilities\n",
    "    * `WORKERS IN FAMILY`: number of workers in each family \n",
    "    * `PERSONS IN FAMILY`: number of persons in each family\n",
    "     \n",
    "    \n",
    "\n",
    "2. `resources_data`: \n",
    "    * `ID`: a unique identifier for each household\n",
    "    * `REGION`: region of the United States \n",
    "    * `DIVISION`: division of the United States, more specific than region\n",
    "    * `STATE`: state of the United States \n",
    "    * `MONTHLY RENT`: the monthly rent each renting household is paying. If the property is owned by the household, this value is the string \"Owner\". \n",
    "    * `GROSS MONTHLY RENT`: the gross rent (monthly amount) each renting household is paying. If the property is owned by the household, this value is the string \"Owner\". \n",
    "    * `VACANCY STATUS`: description of the vacancy status for a particular property; for example: “for rent” or “sold, not occupied.” \n",
    "    * `OCCUPANCY STATUS`: description of the occupancy status for a particular property; for example: “owned free and clear” or “rented.” \n",
    "    * `NUMBER OF VEHICLES`: number of vehicles a particular household has access to. \n",
    "    * `HOUSEHOLD TELEPHONE`: a binary variable, whether or not a household has access to a telephone.\n",
    "    \n",
    "    \n",
    "    \n",
    "3. `states_data`:\n",
    "    * `CODE`: number for reference in original table\n",
    "    * `FULL NAME`: full state name\n",
    "    * `ABRV`: abbreviation\n"
   ]
  },
  {
   "cell_type": "markdown",
   "metadata": {},
   "source": [
    "## Note about Non-Family Values\n",
    "\n",
    "Many values in the table below are categorized as \"non-family\" if the census respondent is not part of a family unit (e.g. the respondent\n",
    "resides in group quarters). Our data contains a lot of family-specific data, like `FAMILY INCOME` or `PERSONS IN FAMILY`; it wouldn't\n",
    "make sense for a person who is not part of a family to have responses to those. \n",
    "\n",
    "Non-family respondents, however, account for a significant portion of census data — roughly between 15%-30%, depending on the sample.\n",
    "If you would like to work with the non-family respondent data, we encourage you to consider non-family-dependent variables, like\n",
    "`HOUSEHOLD INCOME` or `PROPERTY VALUE`, among others. If, however, you do not want to work with these variables, we encourage you\n",
    "to filter out these variables (in a process called \"data cleaning\") from your data before you get started. \n",
    "\n",
    "*Hint: if you want to clean your data so that non-family values do not appear, consider filtering using `.where`.*"
   ]
  },
  {
   "cell_type": "markdown",
   "metadata": {},
   "source": [
    "## Inspiration\n",
    "\n",
    "A variety of exploratory analyses, hypothesis tests, and predictions problems can be tackled with this data. Here are a few ideas to get you started:\n",
    "\n",
    "1. Is there a relationship between property value and limited English-speaking households? \n",
    "2. Is there a significant difference in monthly rent for households in the West region of the United States compared to the Northeast region? \n",
    "3. How do rows containing ‘Non-Family’ data compare to responses filled by heads of Families?\n",
    "4. Where is household telephone access limited? How is this associated with various measures of wealth?\n",
    "5. What states and regions have higher or lower vehicle ownership? See `NUMBER OF VEHICLES`.\n",
    "\n",
    "If you'd like to learn more about  wealth in the United States, check out the following resources:\n",
    "1. [Where does your net worth rank in the United States?](https://www.nytimes.com/interactive/2019/08/12/upshot/are-you-rich-where-does-your-net-worth-rank-wealth.html) Data visualization by the *New York Times*. \n",
    "2. Consider taking Wealth & Poverty (PUBPOL C103) with former U.S. Secretary of Labor and current UC Berkeley professor Robert Reich. \n",
    "3. Consider taking Contemporary Theories of Political Economy (POLECON 101) with Professor Khalid Kadir (it's Data 8 GSI Maya's favorite class at Berkeley!).\n",
    "\n",
    "*Credit to Prof. Lexin Li, and his course Big Data: A Public Health Perspective (PBHLTH 244), for introducing the Data 8 staff to this dataset. Feel free to ask him about your path to upper division and graduate level biostatistics courses at UC Berkeley.* \n",
    "\n",
    "Don't forget to review the [Final Project Guidelines](https://docs.google.com/document/d/1NuHDYTdWGwhPNRov8Y3I8y6R7Rbyf-WDOfQwovD-gmw/edit?usp=sharing) for a complete list of requirements."
   ]
  },
  {
   "cell_type": "markdown",
   "metadata": {},
   "source": [
    "## Preview"
   ]
  },
  {
   "cell_type": "code",
   "execution_count": 2,
   "metadata": {
    "scrolled": true
   },
   "outputs": [
    {
     "data": {
      "text/html": [
       "<table border=\"1\" class=\"dataframe\">\n",
       "    <thead>\n",
       "        <tr>\n",
       "            <th>ID</th> <th>REGION</th> <th>DIVISION</th> <th>STATE</th> <th>FAMILY INCOME</th> <th>HOUSEHOLD LANGUAGE</th> <th>HOUSEHOLD INCOME</th> <th>WORKERS IN FAMILY</th> <th>PERSONS IN FAMILY</th>\n",
       "        </tr>\n",
       "    </thead>\n",
       "    <tbody>\n",
       "        <tr>\n",
       "            <td>2009000089236</td> <td>South </td> <td>East South Central</td> <td>1    </td> <td>Non-Family   </td> <td>English only      </td> <td>9.81            </td> <td>Non-Family       </td> <td>Non-Family       </td>\n",
       "        </tr>\n",
       "        <tr>\n",
       "            <td>2009000311177</td> <td>South </td> <td>East South Central</td> <td>1    </td> <td>10.44        </td> <td>English only      </td> <td>10.44           </td> <td>1                </td> <td>2                </td>\n",
       "        </tr>\n",
       "        <tr>\n",
       "            <td>2009000426047</td> <td>South </td> <td>East South Central</td> <td>1    </td> <td>Non-Family   </td> <td>English only      </td> <td>9.88            </td> <td>Non-Family       </td> <td>Non-Family       </td>\n",
       "        </tr>\n",
       "        <tr>\n",
       "            <td>2009000448671</td> <td>South </td> <td>East South Central</td> <td>1    </td> <td>Non-Family   </td> <td>English only      </td> <td>11.53           </td> <td>Non-Family       </td> <td>Non-Family       </td>\n",
       "        </tr>\n",
       "        <tr>\n",
       "            <td>2009000523654</td> <td>South </td> <td>East South Central</td> <td>1    </td> <td>Non-Family   </td> <td>English only      </td> <td>10.12           </td> <td>Non-Family       </td> <td>Non-Family       </td>\n",
       "        </tr>\n",
       "        <tr>\n",
       "            <td>2009000742214</td> <td>South </td> <td>East South Central</td> <td>1    </td> <td>12.37        </td> <td>English only      </td> <td>12.37           </td> <td>1                </td> <td>2                </td>\n",
       "        </tr>\n",
       "        <tr>\n",
       "            <td>2009001335518</td> <td>South </td> <td>East South Central</td> <td>1    </td> <td>11.15        </td> <td>English only      </td> <td>11.15           </td> <td>3+               </td> <td>3                </td>\n",
       "        </tr>\n",
       "        <tr>\n",
       "            <td>2010000145521</td> <td>South </td> <td>East South Central</td> <td>1    </td> <td>10.11        </td> <td>English only      </td> <td>10.11           </td> <td>0                </td> <td>4                </td>\n",
       "        </tr>\n",
       "        <tr>\n",
       "            <td>2010000560424</td> <td>South </td> <td>East South Central</td> <td>1    </td> <td>11.78        </td> <td>English only      </td> <td>11.78           </td> <td>2                </td> <td>3                </td>\n",
       "        </tr>\n",
       "        <tr>\n",
       "            <td>2010000853150</td> <td>South </td> <td>East South Central</td> <td>1    </td> <td>Non-Family   </td> <td>English only      </td> <td>11.69           </td> <td>Non-Family       </td> <td>Non-Family       </td>\n",
       "        </tr>\n",
       "    </tbody>\n",
       "</table>\n",
       "<p>... (1190 rows omitted)</p>"
      ],
      "text/plain": [
       "ID            | REGION | DIVISION           | STATE | FAMILY INCOME | HOUSEHOLD LANGUAGE | HOUSEHOLD INCOME | WORKERS IN FAMILY | PERSONS IN FAMILY\n",
       "2009000089236 | South  | East South Central | 1     | Non-Family    | English only       | 9.81             | Non-Family        | Non-Family\n",
       "2009000311177 | South  | East South Central | 1     | 10.44         | English only       | 10.44            | 1                 | 2\n",
       "2009000426047 | South  | East South Central | 1     | Non-Family    | English only       | 9.88             | Non-Family        | Non-Family\n",
       "2009000448671 | South  | East South Central | 1     | Non-Family    | English only       | 11.53            | Non-Family        | Non-Family\n",
       "2009000523654 | South  | East South Central | 1     | Non-Family    | English only       | 10.12            | Non-Family        | Non-Family\n",
       "2009000742214 | South  | East South Central | 1     | 12.37         | English only       | 12.37            | 1                 | 2\n",
       "2009001335518 | South  | East South Central | 1     | 11.15         | English only       | 11.15            | 3+                | 3\n",
       "2010000145521 | South  | East South Central | 1     | 10.11         | English only       | 10.11            | 0                 | 4\n",
       "2010000560424 | South  | East South Central | 1     | 11.78         | English only       | 11.78            | 2                 | 3\n",
       "2010000853150 | South  | East South Central | 1     | Non-Family    | English only       | 11.69            | Non-Family        | Non-Family\n",
       "... (1190 rows omitted)"
      ]
     },
     "execution_count": 2,
     "metadata": {},
     "output_type": "execute_result"
    }
   ],
   "source": [
    "families_data = Table.read_table('data/families.csv').relabel(4, 'FAMILY INCOME').relabel(6, 'HOUSEHOLD INCOME')\n",
    "families_data"
   ]
  },
  {
   "cell_type": "code",
   "execution_count": 3,
   "metadata": {
    "scrolled": true
   },
   "outputs": [
    {
     "data": {
      "text/html": [
       "<table border=\"1\" class=\"dataframe\">\n",
       "    <thead>\n",
       "        <tr>\n",
       "            <th>ID</th> <th>REGION</th> <th>DIVISION</th> <th>STATE</th> <th>PROPERTY VALUE</th> <th>MONTHLY RENT</th> <th>GROSS MONTHLY RENT</th> <th>OCCUPANCY STATUS</th> <th>NUMBER OF VEHICLES</th> <th>HOUSEHOLD TELEPHONE</th>\n",
       "        </tr>\n",
       "    </thead>\n",
       "    <tbody>\n",
       "        <tr>\n",
       "            <td>2009000089236</td> <td>South </td> <td>East South Central</td> <td>1    </td> <td>10860         </td> <td>Owner       </td> <td>Owner             </td> <td>Owned           </td> <td>1                 </td> <td>True               </td>\n",
       "        </tr>\n",
       "        <tr>\n",
       "            <td>2009000311177</td> <td>South </td> <td>East South Central</td> <td>1    </td> <td>43441         </td> <td>Owner       </td> <td>Owner             </td> <td>Owned with loan </td> <td>2                 </td> <td>True               </td>\n",
       "        </tr>\n",
       "        <tr>\n",
       "            <td>2009000426047</td> <td>South </td> <td>East South Central</td> <td>1    </td> <td>Renter        </td> <td>238         </td> <td>238               </td> <td>Rented          </td> <td>0                 </td> <td>True               </td>\n",
       "        </tr>\n",
       "        <tr>\n",
       "            <td>2009000448671</td> <td>South </td> <td>East South Central</td> <td>1    </td> <td>Renter        </td> <td>543         </td> <td>705               </td> <td>Rented          </td> <td>2                 </td> <td>True               </td>\n",
       "        </tr>\n",
       "        <tr>\n",
       "            <td>2009000523654</td> <td>South </td> <td>East South Central</td> <td>1    </td> <td>21720         </td> <td>Owner       </td> <td>Owner             </td> <td>Owned           </td> <td>2                 </td> <td>True               </td>\n",
       "        </tr>\n",
       "        <tr>\n",
       "            <td>2009000742214</td> <td>South </td> <td>East South Central</td> <td>1    </td> <td>141184        </td> <td>Owner       </td> <td>Owner             </td> <td>Owned with loan </td> <td>1                 </td> <td>True               </td>\n",
       "        </tr>\n",
       "        <tr>\n",
       "            <td>2009001335518</td> <td>South </td> <td>East South Central</td> <td>1    </td> <td>32580         </td> <td>Owner       </td> <td>Owner             </td> <td>Owned with loan </td> <td>0                 </td> <td>True               </td>\n",
       "        </tr>\n",
       "        <tr>\n",
       "            <td>2010000145521</td> <td>South </td> <td>East South Central</td> <td>1    </td> <td>74787         </td> <td>Owner       </td> <td>Owner             </td> <td>Owned with loan </td> <td>2                 </td> <td>True               </td>\n",
       "        </tr>\n",
       "        <tr>\n",
       "            <td>2010000560424</td> <td>South </td> <td>East South Central</td> <td>1    </td> <td>347228        </td> <td>Owner       </td> <td>Owner             </td> <td>Owned with loan </td> <td>3                 </td> <td>True               </td>\n",
       "        </tr>\n",
       "        <tr>\n",
       "            <td>2010000853150</td> <td>South </td> <td>East South Central</td> <td>1    </td> <td>48077         </td> <td>Owner       </td> <td>Owner             </td> <td>Owned           </td> <td>1                 </td> <td>True               </td>\n",
       "        </tr>\n",
       "    </tbody>\n",
       "</table>\n",
       "<p>... (1190 rows omitted)</p>"
      ],
      "text/plain": [
       "ID            | REGION | DIVISION           | STATE | PROPERTY VALUE | MONTHLY RENT | GROSS MONTHLY RENT | OCCUPANCY STATUS | NUMBER OF VEHICLES | HOUSEHOLD TELEPHONE\n",
       "2009000089236 | South  | East South Central | 1     | 10860          | Owner        | Owner              | Owned            | 1                  | True\n",
       "2009000311177 | South  | East South Central | 1     | 43441          | Owner        | Owner              | Owned with loan  | 2                  | True\n",
       "2009000426047 | South  | East South Central | 1     | Renter         | 238          | 238                | Rented           | 0                  | True\n",
       "2009000448671 | South  | East South Central | 1     | Renter         | 543          | 705                | Rented           | 2                  | True\n",
       "2009000523654 | South  | East South Central | 1     | 21720          | Owner        | Owner              | Owned            | 2                  | True\n",
       "2009000742214 | South  | East South Central | 1     | 141184         | Owner        | Owner              | Owned with loan  | 1                  | True\n",
       "2009001335518 | South  | East South Central | 1     | 32580          | Owner        | Owner              | Owned with loan  | 0                  | True\n",
       "2010000145521 | South  | East South Central | 1     | 74787          | Owner        | Owner              | Owned with loan  | 2                  | True\n",
       "2010000560424 | South  | East South Central | 1     | 347228         | Owner        | Owner              | Owned with loan  | 3                  | True\n",
       "2010000853150 | South  | East South Central | 1     | 48077          | Owner        | Owner              | Owned            | 1                  | True\n",
       "... (1190 rows omitted)"
      ]
     },
     "execution_count": 3,
     "metadata": {},
     "output_type": "execute_result"
    }
   ],
   "source": [
    "resources_data = Table.read_table('data/resources.csv').relabel(4, 'PROPERTY VALUE').relabel(5, 'MONTHLY RENT').relabel(6, 'GROSS MONTHLY RENT')\n",
    "resources_data"
   ]
  },
  {
   "cell_type": "code",
   "execution_count": 4,
   "metadata": {
    "scrolled": true
   },
   "outputs": [
    {
     "data": {
      "text/html": [
       "<table border=\"1\" class=\"dataframe\">\n",
       "    <thead>\n",
       "        <tr>\n",
       "            <th>CODE</th> <th>FULL NAME</th> <th>ABRV</th>\n",
       "        </tr>\n",
       "    </thead>\n",
       "    <tbody>\n",
       "        <tr>\n",
       "            <td>1   </td> <td>Alabama             </td> <td>AL  </td>\n",
       "        </tr>\n",
       "        <tr>\n",
       "            <td>2   </td> <td>Alaska              </td> <td>AK  </td>\n",
       "        </tr>\n",
       "        <tr>\n",
       "            <td>4   </td> <td>Arizona             </td> <td>AZ  </td>\n",
       "        </tr>\n",
       "        <tr>\n",
       "            <td>5   </td> <td>Arkansas            </td> <td>AR  </td>\n",
       "        </tr>\n",
       "        <tr>\n",
       "            <td>6   </td> <td>California          </td> <td>CA  </td>\n",
       "        </tr>\n",
       "        <tr>\n",
       "            <td>8   </td> <td>Colorado            </td> <td>CO  </td>\n",
       "        </tr>\n",
       "        <tr>\n",
       "            <td>9   </td> <td>Connecticut         </td> <td>CT  </td>\n",
       "        </tr>\n",
       "        <tr>\n",
       "            <td>10  </td> <td>Delaware            </td> <td>DE  </td>\n",
       "        </tr>\n",
       "        <tr>\n",
       "            <td>11  </td> <td>District of Columbia</td> <td>DC  </td>\n",
       "        </tr>\n",
       "        <tr>\n",
       "            <td>12  </td> <td>Florida             </td> <td>FL  </td>\n",
       "        </tr>\n",
       "    </tbody>\n",
       "</table>\n",
       "<p>... (42 rows omitted)</p>"
      ],
      "text/plain": [
       "CODE | FULL NAME            | ABRV\n",
       "1    | Alabama              | AL\n",
       "2    | Alaska               | AK\n",
       "4    | Arizona              | AZ\n",
       "5    | Arkansas             | AR\n",
       "6    | California           | CA\n",
       "8    | Colorado             | CO\n",
       "9    | Connecticut          | CT\n",
       "10   | Delaware             | DE\n",
       "11   | District of Columbia | DC\n",
       "12   | Florida              | FL\n",
       "... (42 rows omitted)"
      ]
     },
     "execution_count": 4,
     "metadata": {},
     "output_type": "execute_result"
    }
   ],
   "source": [
    "states_data = Table.read_table('data/states.csv')\n",
    "states_data"
   ]
  },
  {
   "cell_type": "markdown",
   "metadata": {},
   "source": [
    "<br>\n",
    "\n",
    "# Research Report"
   ]
  },
  {
   "cell_type": "markdown",
   "metadata": {},
   "source": [
    "## Introduction\n",
    "\n",
    "*This data is taken from an annual survey from the ACS done by the U.S. Census Bureau. This data covers the years 2009-2013.*\n",
    "\n",
    "**"
   ]
  },
  {
   "cell_type": "markdown",
   "metadata": {},
   "source": [
    "## Hypothesis Testing and Prediction Questions\n",
    "\n",
    "**This project investigates the relationship between occupancy status and the level of English speaking in a household.**\n",
    "\n",
    "**Null Hypothesis: The distribution of household incomes of people in Northeast and West regions households are drawn uniformly at random from the same underlying distribution. Any variation is due to random chance.**\n",
    "\n",
    "**Alternative Hypothesis: The distribution of occupancy status of the two groups is not randomly drawn from the same distribution.**"
   ]
  },
  {
   "cell_type": "markdown",
   "metadata": {},
   "source": [
    "## Exploratory Data Analysis\n",
    "\n",
    "**You may change the order of the plots and tables.**"
   ]
  },
  {
   "cell_type": "markdown",
   "metadata": {},
   "source": [
    "**Table Requiring a Join Operation:**"
   ]
  },
  {
   "cell_type": "code",
   "execution_count": 5,
   "metadata": {},
   "outputs": [
    {
     "data": {
      "text/html": [
       "<table border=\"1\" class=\"dataframe\">\n",
       "    <thead>\n",
       "        <tr>\n",
       "            <th>HOUSEHOLD LANGUAGE</th> <th>HOUSEHOLD INCOME average</th>\n",
       "        </tr>\n",
       "    </thead>\n",
       "    <tbody>\n",
       "        <tr>\n",
       "            <td>English only      </td> <td>11.1377                 </td>\n",
       "        </tr>\n",
       "        <tr>\n",
       "            <td>Other Non-English </td> <td>10.9099                 </td>\n",
       "        </tr>\n",
       "    </tbody>\n",
       "</table>"
      ],
      "text/plain": [
       "HOUSEHOLD LANGUAGE | HOUSEHOLD INCOME average\n",
       "English only       | 11.1377\n",
       "Other Non-English  | 10.9099"
      ]
     },
     "execution_count": 5,
     "metadata": {},
     "output_type": "execute_result"
    }
   ],
   "source": [
    "# Use this cell to join two datasets\n",
    "full_data = families_data.join('ID', resources_data)\n",
    "full_data = full_data.where(full_data.column('HOUSEHOLD INCOME') != 'Non-Family')\n",
    "full_data = full_data.with_column('HOUSEHOLD INCOME', full_data.apply(float, 'HOUSEHOLD INCOME'))\n",
    "# full_data = full_data.where('HOUSEHOLD INCOME', are.above(0))\n",
    "full_data.select('HOUSEHOLD LANGUAGE', 'HOUSEHOLD INCOME').group('HOUSEHOLD LANGUAGE', np.average)"
   ]
  },
  {
   "cell_type": "code",
   "execution_count": 6,
   "metadata": {},
   "outputs": [
    {
     "data": {
      "text/html": [
       "<table border=\"1\" class=\"dataframe\">\n",
       "    <thead>\n",
       "        <tr>\n",
       "            <th>REGION</th> <th>HOUSEHOLD INCOME average</th>\n",
       "        </tr>\n",
       "    </thead>\n",
       "    <tbody>\n",
       "        <tr>\n",
       "            <td>Midwest  </td> <td>11.1263                 </td>\n",
       "        </tr>\n",
       "        <tr>\n",
       "            <td>Northeast</td> <td>11.3733                 </td>\n",
       "        </tr>\n",
       "        <tr>\n",
       "            <td>South    </td> <td>10.9312                 </td>\n",
       "        </tr>\n",
       "        <tr>\n",
       "            <td>West     </td> <td>11.1202                 </td>\n",
       "        </tr>\n",
       "    </tbody>\n",
       "</table>"
      ],
      "text/plain": [
       "REGION    | HOUSEHOLD INCOME average\n",
       "Midwest   | 11.1263\n",
       "Northeast | 11.3733\n",
       "South     | 10.9312\n",
       "West      | 11.1202"
      ]
     },
     "execution_count": 6,
     "metadata": {},
     "output_type": "execute_result"
    }
   ],
   "source": [
    "c = full_data.where('REGION', 'South').append(full_data.where('REGION', 'Northeast'))\n",
    "full_data.select('REGION', 'HOUSEHOLD INCOME').group('REGION', np.average)"
   ]
  },
  {
   "cell_type": "markdown",
   "metadata": {},
   "source": [
    "*Replace this text with an analysis of your plot*"
   ]
  },
  {
   "cell_type": "markdown",
   "metadata": {},
   "source": [
    "**Qualitative Plot:**"
   ]
  },
  {
   "cell_type": "code",
   "execution_count": 7,
   "metadata": {},
   "outputs": [
    {
     "data": {
      "image/png": "[encoded data removed]",
      "text/plain": [
       "<Figure size 432x288 with 1 Axes>"
      ]
     },
     "metadata": {},
     "output_type": "display_data"
    }
   ],
   "source": [
    "# Use this cell to generate your qualitative plot\n",
    "filtered_data = full_data.select('HOUSEHOLD LANGUAGE', 'HOUSEHOLD INCOME')\n",
    "filtered_data = filtered_data.where(filtered_data.column('HOUSEHOLD LANGUAGE') != 'Non-Family')\n",
    "filtered_data.hist('HOUSEHOLD INCOME', group='HOUSEHOLD LANGUAGE', bins=np.arange(0, 16, 0.5))"
   ]
  },
  {
   "cell_type": "code",
   "execution_count": 8,
   "metadata": {},
   "outputs": [
    {
     "data": {
      "image/png": "[encoded data removed]",
      "text/plain": [
       "<Figure size 432x288 with 1 Axes>"
      ]
     },
     "metadata": {},
     "output_type": "display_data"
    }
   ],
   "source": [
    "full_data.where('REGION', 'Northeast').append(full_data.where('REGION', 'South')).hist('HOUSEHOLD INCOME', group='REGION', bins=np.arange(0, 16, 0.5))"
   ]
  },
  {
   "cell_type": "markdown",
   "metadata": {},
   "source": [
    "*Replace this text with an analysis of your plot*"
   ]
  },
  {
   "cell_type": "markdown",
   "metadata": {},
   "source": [
    "**Aggregated Data Table:**"
   ]
  },
  {
   "cell_type": "code",
   "execution_count": 9,
   "metadata": {
    "scrolled": true
   },
   "outputs": [
    {
     "data": {
      "text/html": [
       "<table border=\"1\" class=\"dataframe\">\n",
       "    <thead>\n",
       "        <tr>\n",
       "            <th>REGION</th> <th>HOUSEHOLD LANGUAGE</th> <th>count</th> <th>HOUSEHOLD INCOME mean</th>\n",
       "        </tr>\n",
       "    </thead>\n",
       "    <tbody>\n",
       "        <tr>\n",
       "            <td>Midwest  </td> <td>English only      </td> <td>187  </td> <td>11.1325              </td>\n",
       "        </tr>\n",
       "        <tr>\n",
       "            <td>Midwest  </td> <td>Other Non-English </td> <td>23   </td> <td>11.0761              </td>\n",
       "        </tr>\n",
       "        <tr>\n",
       "            <td>Northeast</td> <td>English only      </td> <td>142  </td> <td>11.4624              </td>\n",
       "        </tr>\n",
       "        <tr>\n",
       "            <td>Northeast</td> <td>Other Non-English </td> <td>36   </td> <td>11.0217              </td>\n",
       "        </tr>\n",
       "        <tr>\n",
       "            <td>South    </td> <td>English only      </td> <td>317  </td> <td>10.9239              </td>\n",
       "        </tr>\n",
       "        <tr>\n",
       "            <td>South    </td> <td>Other Non-English </td> <td>68   </td> <td>10.9651              </td>\n",
       "        </tr>\n",
       "        <tr>\n",
       "            <td>West     </td> <td>English only      </td> <td>160  </td> <td>11.2794              </td>\n",
       "        </tr>\n",
       "        <tr>\n",
       "            <td>West     </td> <td>Other Non-English </td> <td>66   </td> <td>10.7341              </td>\n",
       "        </tr>\n",
       "    </tbody>\n",
       "</table>"
      ],
      "text/plain": [
       "REGION    | HOUSEHOLD LANGUAGE | count | HOUSEHOLD INCOME mean\n",
       "Midwest   | English only       | 187   | 11.1325\n",
       "Midwest   | Other Non-English  | 23    | 11.0761\n",
       "Northeast | English only       | 142   | 11.4624\n",
       "Northeast | Other Non-English  | 36    | 11.0217\n",
       "South     | English only       | 317   | 10.9239\n",
       "South     | Other Non-English  | 68    | 10.9651\n",
       "West      | English only       | 160   | 11.2794\n",
       "West      | Other Non-English  | 66    | 10.7341"
      ]
     },
     "execution_count": 9,
     "metadata": {},
     "output_type": "execute_result"
    }
   ],
   "source": [
    "# Use this cell to generate your aggregated data table\n",
    "filtered_data = full_data.select('REGION', 'HOUSEHOLD LANGUAGE', 'HOUSEHOLD INCOME')\n",
    "group_count = filtered_data.group(['REGION', 'HOUSEHOLD LANGUAGE'])\n",
    "group_mean = filtered_data.group(['REGION', 'HOUSEHOLD LANGUAGE'], np.mean)\n",
    "group_all = group_count.join('REGION', group_mean)\n",
    "group_all.where(\n",
    "    group_all.column('HOUSEHOLD LANGUAGE') == group_all.column('HOUSEHOLD LANGUAGE_2')).drop(\n",
    "    'HOUSEHOLD LANGUAGE_2')"
   ]
  },
  {
   "cell_type": "markdown",
   "metadata": {},
   "source": [
    "*Replace this text with an analysis of your plot*"
   ]
  },
  {
   "cell_type": "markdown",
   "metadata": {},
   "source": [
    "**Quantitative Plot:**"
   ]
  },
  {
   "cell_type": "code",
   "execution_count": null,
   "metadata": {},
   "outputs": [],
   "source": [
    "# Use this cell to generate your quantitative plot\n",
    "filtered_data = full_data.where(full_data.column('GROSS MONTHLY RENT') != 'Non-Family')\n",
    "filtered_data = filtered_data.where(filtered_data.column('GROSS MONTHLY RENT') != 'Owner')\n",
    "filtered_data = filtered_data.with_column('GROSS MONTHLY RENT', filtered_data.apply(float, 'GROSS MONTHLY RENT'))\n",
    "filtered_data.scatter('HOUSEHOLD INCOME', 'GROSS MONTHLY RENT')"
   ]
  },
  {
   "cell_type": "markdown",
   "metadata": {},
   "source": [
    "*Replace this text with an analysis of your plot*"
   ]
  },
  {
   "cell_type": "markdown",
   "metadata": {},
   "source": [
    "## Hypothesis Testing\n",
    "\n",
    "**Do not copy code from demo notebooks or homeworks! You may split portions of your code into distinct cells. Also, be sure to\n",
    "set a random seed so that your results are reproducible.**"
   ]
  },
  {
   "cell_type": "code",
   "execution_count": null,
   "metadata": {},
   "outputs": [],
   "source": [
    "# set the random seed so that results are reproducible\n",
    "random.seed(1231)\n",
    "\n",
    "def means_diff(tbl, group_label, value_label):\n",
    "    tbl = tbl.select(group_label, value_label)\n",
    "    group_tbl = tbl.group(group_label, np.average)\n",
    "    means = group_tbl.column(1)\n",
    "    return means.item(0) - means.item(1)\n",
    "\n",
    "observed_diff = means_diff(full_data, 'REGION', 'HOUSEHOLD INCOME')\n",
    "observed_diff"
   ]
  },
  {
   "cell_type": "code",
   "execution_count": null,
   "metadata": {
    "scrolled": true
   },
   "outputs": [],
   "source": [
    "def simulate_one_stat(tbl, group_label, values_label):\n",
    "    groups_tbl = tbl.select(group_label)\n",
    "    shuffled_labels = groups_tbl.sample(with_replacement=False).column(0)\n",
    "    shuffled_tbl = tbl.with_column(group_label, shuffled_labels)\n",
    "    return means_diff(shuffled_tbl, group_label, values_label)\n",
    "\n",
    "repetitions = 10000\n",
    "differences = make_array()\n",
    "\n",
    "for i in np.arange(repetitions):\n",
    "    one_stat = simulate_one_stat(full_data, 'REGION', 'HOUSEHOLD INCOME')\n",
    "    differences = np.append(differences, one_stat)\n",
    "\n",
    "Table().with_column(\"Difference\", differences).hist()\n",
    "plots.scatter(observed_diff, 0, s=30, color='red');"
   ]
  },
  {
   "cell_type": "code",
   "execution_count": null,
   "metadata": {},
   "outputs": [],
   "source": [
    "p_value = np.count_nonzero(differences >= observed_diff) / repetitions\n",
    "p_value"
   ]
  },
  {
   "cell_type": "markdown",
   "metadata": {},
   "source": [
    "## Prediction\n",
    "\n",
    "**Be sure to set a random seed so that your results are reproducible.**"
   ]
  },
  {
   "cell_type": "code",
   "execution_count": 10,
   "metadata": {},
   "outputs": [
    {
     "ename": "ValueError",
     "evalue": "The column \"GROSS MONTHLY RENT\" is not in the table. The table contains these columns: REGION, HOUSEHOLD LANGUAGE, HOUSEHOLD INCOME",
     "output_type": "error",
     "traceback": [
      "\u001b[0;31m---------------------------------------------------------------------------\u001b[0m",
      "\u001b[0;31mValueError\u001b[0m                                Traceback (most recent call last)",
      "\u001b[0;32m<ipython-input-10-263cedac4656>\u001b[0m in \u001b[0;36m<module>\u001b[0;34m\u001b[0m\n\u001b[1;32m     25\u001b[0m \u001b[0mfiltered_data\u001b[0m \u001b[0;34m=\u001b[0m \u001b[0mfiltered_data\u001b[0m\u001b[0;34m.\u001b[0m\u001b[0mwhere\u001b[0m\u001b[0;34m(\u001b[0m\u001b[0;34m'HOUSEHOLD INCOME'\u001b[0m\u001b[0;34m,\u001b[0m \u001b[0mare\u001b[0m\u001b[0;34m.\u001b[0m\u001b[0mabove\u001b[0m\u001b[0;34m(\u001b[0m\u001b[0;36m0\u001b[0m\u001b[0;34m)\u001b[0m\u001b[0;34m)\u001b[0m\u001b[0;34m\u001b[0m\u001b[0;34m\u001b[0m\u001b[0m\n\u001b[1;32m     26\u001b[0m \u001b[0;34m\u001b[0m\u001b[0m\n\u001b[0;32m---> 27\u001b[0;31m \u001b[0mcorrelation\u001b[0m\u001b[0;34m(\u001b[0m\u001b[0mfiltered_data\u001b[0m\u001b[0;34m,\u001b[0m \u001b[0;34m'HOUSEHOLD INCOME'\u001b[0m\u001b[0;34m,\u001b[0m \u001b[0;34m'GROSS MONTHLY RENT'\u001b[0m\u001b[0;34m)\u001b[0m\u001b[0;34m\u001b[0m\u001b[0;34m\u001b[0m\u001b[0m\n\u001b[0m",
      "\u001b[0;32m<ipython-input-10-263cedac4656>\u001b[0m in \u001b[0;36mcorrelation\u001b[0;34m(tbl, x_col, y_col)\u001b[0m\n\u001b[1;32m      7\u001b[0m \u001b[0;32mdef\u001b[0m \u001b[0mcorrelation\u001b[0m\u001b[0;34m(\u001b[0m\u001b[0mtbl\u001b[0m\u001b[0;34m,\u001b[0m \u001b[0mx_col\u001b[0m\u001b[0;34m,\u001b[0m \u001b[0my_col\u001b[0m\u001b[0;34m)\u001b[0m\u001b[0;34m:\u001b[0m\u001b[0;34m\u001b[0m\u001b[0;34m\u001b[0m\u001b[0m\n\u001b[1;32m      8\u001b[0m     \u001b[0mx_std\u001b[0m \u001b[0;34m=\u001b[0m \u001b[0mstandard_units\u001b[0m\u001b[0;34m(\u001b[0m\u001b[0mtbl\u001b[0m\u001b[0;34m.\u001b[0m\u001b[0mcolumn\u001b[0m\u001b[0;34m(\u001b[0m\u001b[0mx_col\u001b[0m\u001b[0;34m)\u001b[0m\u001b[0;34m)\u001b[0m\u001b[0;34m\u001b[0m\u001b[0;34m\u001b[0m\u001b[0m\n\u001b[0;32m----> 9\u001b[0;31m     \u001b[0my_std\u001b[0m \u001b[0;34m=\u001b[0m \u001b[0mstandard_units\u001b[0m\u001b[0;34m(\u001b[0m\u001b[0mtbl\u001b[0m\u001b[0;34m.\u001b[0m\u001b[0mcolumn\u001b[0m\u001b[0;34m(\u001b[0m\u001b[0my_col\u001b[0m\u001b[0;34m)\u001b[0m\u001b[0;34m)\u001b[0m\u001b[0;34m\u001b[0m\u001b[0;34m\u001b[0m\u001b[0m\n\u001b[0m\u001b[1;32m     10\u001b[0m     \u001b[0;32mreturn\u001b[0m \u001b[0mnp\u001b[0m\u001b[0;34m.\u001b[0m\u001b[0mmean\u001b[0m\u001b[0;34m(\u001b[0m\u001b[0mx_std\u001b[0m \u001b[0;34m*\u001b[0m \u001b[0my_std\u001b[0m\u001b[0;34m)\u001b[0m\u001b[0;34m\u001b[0m\u001b[0;34m\u001b[0m\u001b[0m\n\u001b[1;32m     11\u001b[0m \u001b[0;34m\u001b[0m\u001b[0m\n",
      "\u001b[0;32m/srv/app/venv/lib/python3.6/site-packages/datascience/tables.py\u001b[0m in \u001b[0;36mcolumn\u001b[0;34m(self, index_or_label)\u001b[0m\n\u001b[1;32m    275\u001b[0m                 \u001b[0;34m'The column \"{}\" is not in the table. The table contains '\u001b[0m\u001b[0;34m\u001b[0m\u001b[0;34m\u001b[0m\u001b[0m\n\u001b[1;32m    276\u001b[0m                 \u001b[0;34m'these columns: {}'\u001b[0m\u001b[0;34m\u001b[0m\u001b[0;34m\u001b[0m\u001b[0m\n\u001b[0;32m--> 277\u001b[0;31m                 \u001b[0;34m.\u001b[0m\u001b[0mformat\u001b[0m\u001b[0;34m(\u001b[0m\u001b[0mindex_or_label\u001b[0m\u001b[0;34m,\u001b[0m \u001b[0;34m', '\u001b[0m\u001b[0;34m.\u001b[0m\u001b[0mjoin\u001b[0m\u001b[0;34m(\u001b[0m\u001b[0mself\u001b[0m\u001b[0;34m.\u001b[0m\u001b[0mlabels\u001b[0m\u001b[0;34m)\u001b[0m\u001b[0;34m)\u001b[0m\u001b[0;34m\u001b[0m\u001b[0;34m\u001b[0m\u001b[0m\n\u001b[0m\u001b[1;32m    278\u001b[0m             )\n\u001b[1;32m    279\u001b[0m         if (isinstance(index_or_label, int)\n",
      "\u001b[0;31mValueError\u001b[0m: The column \"GROSS MONTHLY RENT\" is not in the table. The table contains these columns: REGION, HOUSEHOLD LANGUAGE, HOUSEHOLD INCOME"
     ]
    }
   ],
   "source": [
    "# set the random seed so that results are reproducible\n",
    "random.seed(1231)\n",
    "\n",
    "def standard_units(arr):\n",
    "    return (arr - np.mean(arr))/np.std(arr)\n",
    "\n",
    "def correlation(tbl, x_col, y_col):\n",
    "    x_std = standard_units(tbl.column(x_col))\n",
    "    y_std = standard_units(tbl.column(y_col))\n",
    "    return np.mean(x_std * y_std)\n",
    "\n",
    "def slope(tbl, x_col, y_col):\n",
    "    r = correlation(tbl, x_col, y_col)\n",
    "    return r * np.std(tbl.column(y_col))/np.std(tbl.column(x_col))\n",
    "\n",
    "def intercept(tbl, x_col, y_col):\n",
    "    m = slope(tbl, x_col, y_col)\n",
    "    return np.mean(tbl.column(y_col)) - m*np.mean(tbl.column(x_col))\n",
    "\n",
    "def fitted_values(tbl, x_col, y_col):\n",
    "    m = slope(tbl, x_col, y_col)\n",
    "    c = intercept(tbl, x_col, y_col)\n",
    "    return m*tbl.column(x_col) + c\n",
    "\n",
    "filtered_data = filtered_data.where('HOUSEHOLD INCOME', are.above(0))\n",
    "\n",
    "correlation(filtered_data, 'HOUSEHOLD INCOME', 'GROSS MONTHLY RENT')"
   ]
  },
  {
   "cell_type": "code",
   "execution_count": null,
   "metadata": {},
   "outputs": [],
   "source": [
    "fit_data = Table().with_columns(\n",
    "    'HOUSEHOLD INCOME', filtered_data.column('HOUSEHOLD INCOME'),\n",
    "    'GROSS MONTHLY RENT', filtered_data.column('GROSS MONTHLY RENT'),\n",
    "    'FITTED VALUES', fitted_values(filtered_data, 'HOUSEHOLD INCOME', 'GROSS MONTHLY RENT')\n",
    ")\n",
    "\n",
    "fit_data.scatter(0)"
   ]
  },
  {
   "cell_type": "code",
   "execution_count": null,
   "metadata": {},
   "outputs": [],
   "source": [
    "fit_data = fit_data.with_column(\n",
    "    'RESIDUALS', fit_data.column(1) - fit_data.column(2)\n",
    ")\n",
    "fit_data.scatter(0, 3)\n",
    "fit_data.sort(3, descending=True).sort(10)"
   ]
  },
  {
   "cell_type": "code",
   "execution_count": null,
   "metadata": {},
   "outputs": [],
   "source": [
    "def nn_predict(tbl, x_col, y_col):\n",
    "    def pred_y(x):\n",
    "        close = tbl.where(x_col, are.between(x - 1, x + 1))\n",
    "        return np.average(close.column(y_col))\n",
    "    return tbl.apply(pred_y, x_col)\n",
    "\n",
    "nn_predict(filtered_data, 'HOUSEHOLD INCOME', 'GROSS MONTHLY RENT')\n",
    "\n",
    "nn_data = Table().with_columns(\n",
    "    'HOUSEHOLD INCOME', filtered_data.column('HOUSEHOLD INCOME'),\n",
    "    'GROSS MONTHLY RENT', filtered_data.column('GROSS MONTHLY RENT'),\n",
    "    'NN PREDICTIONS', nn_predict(filtered_data, 'HOUSEHOLD INCOME', 'GROSS MONTHLY RENT')\n",
    ").scatter(0)\n",
    "\n",
    "nn_predict(filtered_data, 'HOUSEHOLD INCOME', 'GROSS MONTHLY RENT')"
   ]
  },
  {
   "cell_type": "markdown",
   "metadata": {},
   "source": [
    "## Conclusion\n",
    "\n",
    "*Replace this text with your conclusion*"
   ]
  },
  {
   "cell_type": "markdown",
   "metadata": {},
   "source": [
    "## Presentation\n",
    "\n",
    "*In this section, you'll need to provide a link to your video presentation. If you've uploaded your presentation to YouTube,\n",
    "you can include the URL in the code below. We've provided an example to show you how to do this. Otherwise, provide the link\n",
    "in a markdown cell.*\n",
    "\n",
    "**Link:** *Replace this text with a link to your video presentation*"
   ]
  },
  {
   "cell_type": "code",
   "execution_count": null,
   "metadata": {},
   "outputs": [],
   "source": [
    "# Full Link: https://www.youtube.com/watch?v=BKgdDLrSC5s&feature=emb_logo\n",
    "# Plug in string between \"v=\" and \"\"&feature\":\n",
    "# YouTubeVideo('BKgdDLrSC5s')"
   ]
  },
  {
   "cell_type": "markdown",
   "metadata": {},
   "source": [
    "# Submission\n",
    "\n",
    "*Just as with the other assignments in this course, please submit your research notebook to Okpy. We suggest that you\n",
    "submit often so that your progress is saved.*"
   ]
  },
  {
   "cell_type": "code",
   "execution_count": null,
   "metadata": {},
   "outputs": [],
   "source": [
    "# Run this line to submit your work\n",
    "# _ = ok.submit()"
   ]
  },
  {
   "cell_type": "code",
   "execution_count": null,
   "metadata": {},
   "outputs": [],
   "source": [
    "a = full_data.where(full_data.column('FAMILY INCOME') != 'Non-Family')\n",
    "a = a.with_column('FAMILY INCOME', a.apply(float, 'FAMILY INCOME'))\n",
    "a.hist('FAMILY INCOME', group='HOUSEHOLD LANGUAGE', bins=np.arange(0, 16, 1))"
   ]
  },
  {
   "cell_type": "code",
   "execution_count": null,
   "metadata": {
    "scrolled": false
   },
   "outputs": [],
   "source": [
    "# a = full_data.where('HOUSEHOLD INCOME', are.above(0))\n",
    "a = full_data\n",
    "regions = full_data.group('REGION').column(0)\n",
    "for i in regions:\n",
    "    for j in regions:\n",
    "        if i < j:\n",
    "            b = a.where(a.column('REGION') != i)\n",
    "            b = b.where(b.column('REGION') != j)\n",
    "            b.hist('HOUSEHOLD INCOME', group='REGION')"
   ]
  },
  {
   "cell_type": "code",
   "execution_count": null,
   "metadata": {},
   "outputs": [],
   "source": [
    "def means_diff(tbl, group_label, value_label):\n",
    "    tbl = tbl.select(group_label, value_label)\n",
    "    group_tbl = tbl.group(group_label, np.average)\n",
    "    means = group_tbl.column(1)\n",
    "    return means.item(0) - means.item(1)\n",
    "\n",
    "for i in regions:\n",
    "    for j in regions:\n",
    "        if i < j:\n",
    "            b = a.where(a.column('REGION') != i)\n",
    "            b = b.where(b.column('REGION') != j)\n",
    "            for k in regions:\n",
    "                if k !=i and k != j:\n",
    "                    print(k, end=\" \")\n",
    "            print(means_diff(b, 'REGION', 'HOUSEHOLD INCOME'))"
   ]
  },
  {
   "cell_type": "code",
   "execution_count": null,
   "metadata": {},
   "outputs": [],
   "source": [
    "def simulate_one_stat(tbl, group_label, values_label):\n",
    "    groups_tbl = tbl.select(group_label)\n",
    "    shuffled_labels = groups_tbl.sample(with_replacement=False).column(0)\n",
    "    shuffled_tbl = tbl.with_column(group_label, shuffled_labels)\n",
    "    return means_diff(shuffled_tbl, group_label, values_label)\n",
    "\n",
    "repetitions = 10000\n",
    "differences = make_array()\n",
    "\n",
    "a = a.where(a.column('REGION') != \"West\")\n",
    "a = a.where(a.column('REGION') != \"Midwest\")\n",
    "\n",
    "for i in np.arange(repetitions):\n",
    "    one_stat = simulate_one_stat(a, 'REGION', 'HOUSEHOLD INCOME')\n",
    "    differences = np.append(differences, one_stat)\n",
    "\n",
    "Table().with_column(\"Difference\", differences).hist()\n",
    "plots.scatter(means_diff(a, 'REGION', 'HOUSEHOLD INCOME'), 0, s=30, color='red');"
   ]
  },
  {
   "cell_type": "code",
   "execution_count": null,
   "metadata": {},
   "outputs": [],
   "source": [
    "a = full_data\n",
    "a = a.where(a.column('REGION') != 'West')\n",
    "a = a.where(a.column('REGION') != 'Midwest')\n",
    "a.select('REGION', 'HOUSEHOLD INCOME').group('REGION', np.average)"
   ]
  },
  {
   "cell_type": "code",
   "execution_count": null,
   "metadata": {},
   "outputs": [],
   "source": [
    "a.hist('HOUSEHOLD INCOME', group='REGION', bins=np.arange(0, 16, 0.5))"
   ]
  },
  {
   "cell_type": "code",
   "execution_count": null,
   "metadata": {},
   "outputs": [],
   "source": [
    "# full_data.hist('HOUSEHOLD INCOME', group='HOUSEHOLD LANGUAGE', bins=np.arange(0, 16, 0.6))"
   ]
  },
  {
   "cell_type": "code",
   "execution_count": null,
   "metadata": {},
   "outputs": [],
   "source": [
    "full_data.scatter('WORKERS IN FAMILY', 'HOUSEHOLD INCOME')"
   ]
  },
  {
   "cell_type": "code",
   "execution_count": null,
   "metadata": {
    "scrolled": false
   },
   "outputs": [],
   "source": [
    "def means_diff(tbl, group_label, value_label):\n",
    "    tbl = tbl.select(group_label, value_label)\n",
    "    group_tbl = tbl.group(group_label, np.average)\n",
    "    means = group_tbl.column(1)\n",
    "    return means.item(0) - means.item(1)\n",
    "\n",
    "a = full_data\n",
    "regions = full_data.group('REGION').column(0)\n",
    "for i in regions:\n",
    "    for j in regions:\n",
    "        if i < j:\n",
    "            b = a.where('REGION', i)\n",
    "            b.append(a.where('REGION', j))\n",
    "            print(i, j, means_diff(b, 'REGION', 'HOUSEHOLD INCOME'))\n",
    "            b.hist('HOUSEHOLD INCOME', group='REGION', bins=np.arange(0, 16, 0.5))\n",
    "            \n",
    "            b = b.with_column('GROUP', np.ones(b.num_rows)*0)\n",
    "            c = a.take(0)\n",
    "            others = make_array()\n",
    "            for k in regions:\n",
    "                if k!=i and k!=j:\n",
    "                    c.append(a.where('REGION', k))\n",
    "                    others = np.append(others, k)\n",
    "            c.remove(0)\n",
    "            c = c.with_column('GROUP', np.ones(c.num_rows))\n",
    "            c.append(b)\n",
    "            print(i+\"&\"+j, others.item(0)+\"&\"+others.item(1), means_diff(c, 'GROUP', 'HOUSEHOLD INCOME'))\n",
    "            c.hist('HOUSEHOLD INCOME', group='GROUP', bins=np.arange(0, 16, 0.5))"
   ]
  },
  {
   "cell_type": "code",
   "execution_count": null,
   "metadata": {},
   "outputs": [],
   "source": []
  }
 ],
 "metadata": {
  "kernelspec": {
   "display_name": "Python 3",
   "language": "python",
   "name": "python3"
  },
  "language_info": {
   "codemirror_mode": {
    "name": "ipython",
    "version": 3
   },
   "file_extension": ".py",
   "mimetype": "text/x-python",
   "name": "python",
   "nbconvert_exporter": "python",
   "pygments_lexer": "ipython3",
   "version": "3.6.9"
  }
 },
 "nbformat": 4,
 "nbformat_minor": 4
}
